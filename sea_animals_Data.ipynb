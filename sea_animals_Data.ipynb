{
 "cells": [
  {
   "cell_type": "code",
   "execution_count": 1,
   "id": "fc824077-3cb6-48c9-a505-82250ebd30fc",
   "metadata": {},
   "outputs": [],
   "source": [
    "import os "
   ]
  },
  {
   "cell_type": "code",
   "execution_count": 2,
   "id": "d0dc1342-5c5f-43da-8916-dd059fa53ff0",
   "metadata": {},
   "outputs": [
    {
     "data": {
      "text/plain": [
       "['Clams',\n",
       " 'Corals',\n",
       " 'Crabs',\n",
       " 'Dolphin',\n",
       " 'Eel',\n",
       " 'Fish',\n",
       " 'Jelly Fish',\n",
       " 'Lobster',\n",
       " 'Nudibranchs',\n",
       " 'Octopus',\n",
       " 'Otter',\n",
       " 'Penguin',\n",
       " 'Puffers',\n",
       " 'Sea Rays',\n",
       " 'Sea Urchins',\n",
       " 'Seahorse',\n",
       " 'Seal',\n",
       " 'Sharks',\n",
       " 'Shrimp',\n",
       " 'Squid',\n",
       " 'Starfish',\n",
       " 'Turtle_Tortoise',\n",
       " 'Whale']"
      ]
     },
     "execution_count": 2,
     "metadata": {},
     "output_type": "execute_result"
    }
   ],
   "source": [
    "class_names=[name for name in os.listdir(\"datasets/dl_datasets/sea_animals1\")]\n",
    "class_names"
   ]
  },
  {
   "cell_type": "code",
   "execution_count": 4,
   "id": "a6c7b605-3057-4e60-ad9b-d211ec6764fa",
   "metadata": {},
   "outputs": [],
   "source": [
    "import os\n",
    "import shutil\n",
    "import random\n",
    "\n",
    "# original path \n",
    "original_dataset_dir =\"datasets/dl_datasets/sea_animals1\" # change this to your path (image path)\n",
    "\n",
    "# new paths for training and validation sets\n",
    "base_dir = \"datasets/dl_datasets/sea_animals3\"\n",
    "os.mkdir(base_dir)\n",
    "\n",
    "# new folder for training set\n",
    "train_dir = os.path.join(base_dir, 'train')\n",
    "os.mkdir(train_dir)\n",
    "\n",
    "# new folder for validation set\n",
    "validation_dir = os.path.join(base_dir, 'validation')\n",
    "os.mkdir(validation_dir)\n",
    "\n",
    "# Eğitim ve validation için her bir sınıfın klasörleri\n",
    "classes = class_names\n",
    "\n",
    "for cls in classes:\n",
    "    cls_dir = os.path.join(original_dataset_dir, cls)\n",
    "    files = os.listdir(cls_dir)\n",
    "    random.shuffle(files)\n",
    "    \n",
    "    # split dataset to training and validation \n",
    "    split_point = int(0.7 * len(files))   # training percentage is 0.7 --> %70\n",
    "    train_files = files[:split_point]\n",
    "    validation_files = files[split_point:]\n",
    "    \n",
    "    train_cls_dir = os.path.join(train_dir, cls)\n",
    "    os.makedirs(train_cls_dir)\n",
    "    \n",
    "    validation_cls_dir = os.path.join(validation_dir, cls)\n",
    "    os.makedirs(validation_cls_dir)\n",
    "\n",
    "    # copy files to the folders\n",
    "    for file in train_files:\n",
    "        src = os.path.join(cls_dir, file)\n",
    "        dst = os.path.join(train_cls_dir, file)\n",
    "        shutil.copyfile(src, dst)\n",
    "        \n",
    "    for file in validation_files:\n",
    "        src = os.path.join(cls_dir, file)\n",
    "        dst = os.path.join(validation_cls_dir, file)\n",
    "        shutil.copyfile(src, dst)"
   ]
  },
  {
   "cell_type": "code",
   "execution_count": null,
   "id": "0ab3cabd-b5ed-43c3-91c4-1b98510a3652",
   "metadata": {},
   "outputs": [],
   "source": []
  },
  {
   "cell_type": "code",
   "execution_count": null,
   "id": "008efb96-945a-417c-97c5-86c92867a1a0",
   "metadata": {},
   "outputs": [],
   "source": []
  },
  {
   "cell_type": "code",
   "execution_count": null,
   "id": "de8fc785-212d-4f7d-be19-a42faa4ff18c",
   "metadata": {},
   "outputs": [],
   "source": []
  },
  {
   "cell_type": "code",
   "execution_count": null,
   "id": "aeaa3e0e-8044-48bf-bf37-4631de55f8dc",
   "metadata": {},
   "outputs": [],
   "source": []
  },
  {
   "cell_type": "code",
   "execution_count": null,
   "id": "c1f33708-d8a0-436c-b82c-b6c2a9406a3f",
   "metadata": {},
   "outputs": [],
   "source": []
  },
  {
   "cell_type": "code",
   "execution_count": null,
   "id": "2fb2d4f6-52e9-42d4-9e5f-bc8c3b765774",
   "metadata": {},
   "outputs": [],
   "source": []
  },
  {
   "cell_type": "code",
   "execution_count": null,
   "id": "4f06bf4b-59c1-4874-8c12-4fffad9a6864",
   "metadata": {},
   "outputs": [],
   "source": []
  },
  {
   "cell_type": "code",
   "execution_count": null,
   "id": "86ba1fe0-b48b-42a0-8c03-0479c8cc8d9f",
   "metadata": {},
   "outputs": [],
   "source": []
  },
  {
   "cell_type": "code",
   "execution_count": null,
   "id": "ba2adf2f-6bd4-4e26-b714-54b7faaf7c9b",
   "metadata": {},
   "outputs": [],
   "source": []
  },
  {
   "cell_type": "code",
   "execution_count": null,
   "id": "19562e2f-f991-4960-b0e4-206d577168c8",
   "metadata": {},
   "outputs": [],
   "source": []
  },
  {
   "cell_type": "code",
   "execution_count": null,
   "id": "00c7b1f6-c3da-4fc9-8efb-a09c7dca65e2",
   "metadata": {},
   "outputs": [],
   "source": []
  },
  {
   "cell_type": "code",
   "execution_count": null,
   "id": "60d433d8-198c-4ed6-9efd-ebef8582be5b",
   "metadata": {},
   "outputs": [],
   "source": []
  }
 ],
 "metadata": {
  "kernelspec": {
   "display_name": "Python 3 (ipykernel)",
   "language": "python",
   "name": "python3"
  },
  "language_info": {
   "codemirror_mode": {
    "name": "ipython",
    "version": 3
   },
   "file_extension": ".py",
   "mimetype": "text/x-python",
   "name": "python",
   "nbconvert_exporter": "python",
   "pygments_lexer": "ipython3",
   "version": "3.10.0"
  }
 },
 "nbformat": 4,
 "nbformat_minor": 5
}
